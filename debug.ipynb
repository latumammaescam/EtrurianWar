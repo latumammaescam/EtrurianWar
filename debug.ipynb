{
 "cells": [
  {
   "cell_type": "code",
   "execution_count": 20,
   "metadata": {},
   "outputs": [],
   "source": [
    "import pandas as pd\n",
    "import numpy as np\n",
    "from datetime import datetime, timedelta"
   ]
  },
  {
   "cell_type": "code",
   "execution_count": 28,
   "metadata": {},
   "outputs": [
    {
     "data": {
      "text/plain": [
       "array([[0, 0, 0, ..., 0, 0, 0],\n",
       "       [0, 0, 0, ..., 0, 0, 0],\n",
       "       [0, 0, 0, ..., 0, 1, 0],\n",
       "       ...,\n",
       "       [0, 0, 0, ..., 0, 0, 0],\n",
       "       [0, 0, 1, ..., 0, 0, 1],\n",
       "       [0, 0, 0, ..., 0, 1, 0]])"
      ]
     },
     "execution_count": 28,
     "metadata": {},
     "output_type": "execute_result"
    }
   ],
   "source": [
    "t = datetime(2069, 1, 1)\n",
    "\n",
    "etruria = pd.read_excel('Etruria.xlsx')\n",
    "etruria.set_index(\"indice\", inplace=True)\n",
    "etruria_matrix = etruria.to_numpy()\n",
    "etruria_matrix"
   ]
  },
  {
   "cell_type": "code",
   "execution_count": 29,
   "metadata": {},
   "outputs": [
    {
     "data": {
      "text/plain": [
       "['Acquapendente',\n",
       " 'Arlena di Castro',\n",
       " 'Bagnoregio',\n",
       " 'Barbarano Romano',\n",
       " 'Bassano in Teverina',\n",
       " 'Bassano Romano',\n",
       " 'Blera',\n",
       " 'Bolsena',\n",
       " 'Bomarzo',\n",
       " 'Calcata',\n",
       " 'Canepina',\n",
       " 'Canino',\n",
       " 'Capodimonte',\n",
       " 'Capranica',\n",
       " 'Caprarola',\n",
       " 'Carbognano',\n",
       " \"Castel Sant'Elia\",\n",
       " 'Castiglione in Teverina',\n",
       " 'Celleno',\n",
       " 'Cellere',\n",
       " 'Civita Castellana',\n",
       " \"Civitella d'Agliano\",\n",
       " 'Corchiano',\n",
       " 'Fabbrica di Roma',\n",
       " 'Faleria',\n",
       " 'Farnese',\n",
       " 'Gallese',\n",
       " 'Gradoli',\n",
       " 'Graffignano',\n",
       " 'Grotte di Castro',\n",
       " 'Ischia di Castro',\n",
       " 'Latera',\n",
       " 'Lubriano',\n",
       " 'Marta',\n",
       " 'Montalto di Castro',\n",
       " 'Monte Romano',\n",
       " 'Montefiascone',\n",
       " 'Monterosi',\n",
       " 'Nepi',\n",
       " 'Onano',\n",
       " 'Oriolo Romano',\n",
       " 'Orte',\n",
       " 'Piansano',\n",
       " 'Proceno',\n",
       " 'Ronciglione',\n",
       " 'San Lorenzo Nuovo',\n",
       " 'Soriano del Cimino',\n",
       " 'Sutri',\n",
       " 'Tarquinia',\n",
       " 'Tessennano',\n",
       " 'Tuscania',\n",
       " 'Valentano',\n",
       " 'Vallerano',\n",
       " 'Vasanello',\n",
       " 'Vejano',\n",
       " 'Vetralla',\n",
       " 'Vignanello',\n",
       " 'Villa San Giovanni in Tuscia',\n",
       " 'Viterbo',\n",
       " 'Vitorchiano']"
      ]
     },
     "execution_count": 29,
     "metadata": {},
     "output_type": "execute_result"
    }
   ],
   "source": [
    "comuni_list = list(etruria.columns)\n",
    "comuni_list"
   ]
  },
  {
   "cell_type": "code",
   "execution_count": 30,
   "metadata": {},
   "outputs": [],
   "source": [
    "def get_confinanti(etruria_matrix, loc, comuni):\n",
    "    confinanti = etruria_matrix @ loc\n",
    "    comuni_confinanti = []\n",
    "    idx_cc = []\n",
    "    print(\"================================================\")\n",
    "    for i in range(len(confinanti)):\n",
    "        if confinanti[i] == 1:\n",
    "            idx_cc.append(i)\n",
    "            comuni_confinanti.append(comuni[i])\n",
    "            print(f\"{comuni[i]}\")\n",
    "    return confinanti, comuni_confinanti, idx_cc"
   ]
  },
  {
   "cell_type": "code",
   "execution_count": 31,
   "metadata": {},
   "outputs": [
    {
     "name": "stdout",
     "output_type": "stream",
     "text": [
      "Faleria attacca uno di questi territori:\n",
      "================================================\n",
      "Calcata\n",
      "Castel Sant'Elia\n",
      "Civita Castellana\n",
      "================================================\n",
      "Se la pija nel bucio Civita Castellana, i cui comuni confinanti sono:\n",
      "================================================\n",
      "Castel Sant'Elia\n",
      "Corchiano\n",
      "Fabbrica di Roma\n",
      "Faleria\n",
      "Gallese\n",
      "================================================\n",
      "Ai posti di combattimento!\n"
     ]
    }
   ],
   "source": [
    "attacker = np.random.randint(0, high=len(etruria_matrix[0]))\n",
    "print(f\"{comuni_list[attacker]} attacca uno di questi territori:\")\n",
    "loc = np.zeros(len(etruria_matrix[0]))\n",
    "loc[attacker] = 1\n",
    "confinanti, comuni_confinanti, idx_cc = get_confinanti(etruria_matrix, loc, comuni_list)\n",
    "# print(confinanti)\n",
    "# print(idx_cc)\n",
    "defender = np.random.randint(0, high=sum(confinanti))\n",
    "print(\"================================================\")\n",
    "print(f\"Se la pija nel bucio {comuni_confinanti[defender]}, i cui comuni confinanti sono:\")\n",
    "loctest = np.zeros(len(etruria_matrix[0]))\n",
    "loctest[idx_cc[defender]] = 1\n",
    "test, test1, idx_cctest = get_confinanti(etruria_matrix, loctest, comuni_list)\n",
    "\n",
    "print(\"================================================\")\n",
    "print('Ai posti di combattimento!')"
   ]
  },
  {
   "cell_type": "code",
   "execution_count": 33,
   "metadata": {},
   "outputs": [
    {
     "name": "stdout",
     "output_type": "stream",
     "text": [
      "[9, 16, 20]\n"
     ]
    }
   ],
   "source": [
    "sum(confinanti)\n",
    "print(idx_cc)\n",
    "# print(f'Vince {comuni[attacker]} che si espande su {comuni_confinanti[defender]}.')\n",
    "# print(idx_cc[defender])\n",
    "# print(attacker)"
   ]
  },
  {
   "cell_type": "code",
   "execution_count": 34,
   "metadata": {},
   "outputs": [
    {
     "data": {
      "text/plain": [
       "array([0, 0, 0, 0, 0, 0, 0, 0, 0, 1, 0, 0, 0, 0, 0, 0, 1, 0, 0, 0, 1, 0,\n",
       "       0, 0, 0, 0, 0, 0, 0, 0, 0, 0, 0, 0, 0, 0, 0, 0, 0, 0, 0, 0, 0, 0,\n",
       "       0, 0, 0, 0, 0, 0, 0, 0, 0, 0, 0, 0, 0, 0, 0, 0])"
      ]
     },
     "execution_count": 34,
     "metadata": {},
     "output_type": "execute_result"
    }
   ],
   "source": [
    "etruria_matrix[idx_cc[defender], :]\n",
    "etruria_matrix[attacker, :]"
   ]
  },
  {
   "cell_type": "code",
   "execution_count": 35,
   "metadata": {},
   "outputs": [
    {
     "name": "stdout",
     "output_type": "stream",
     "text": [
      "1\n",
      "1\n"
     ]
    }
   ],
   "source": [
    "print(etruria_matrix[attacker, idx_cc[defender]])\n",
    "print(etruria_matrix[idx_cc[defender], attacker])"
   ]
  },
  {
   "cell_type": "code",
   "execution_count": 23,
   "metadata": {},
   "outputs": [
    {
     "data": {
      "text/plain": [
       "(60, 60)"
      ]
     },
     "execution_count": 23,
     "metadata": {},
     "output_type": "execute_result"
    }
   ],
   "source": [
    "etruria_matrix[attacker, :] = etruria_matrix[idx_cc[defender], :] | etruria_matrix[attacker, :]\n",
    "etruria_matrix[:, attacker] = etruria_matrix[:, idx_cc[defender]] | etruria_matrix[:, attacker]\n",
    "etruria_matrix.shape"
   ]
  },
  {
   "cell_type": "code",
   "execution_count": 24,
   "metadata": {},
   "outputs": [],
   "source": [
    "np.fill_diagonal(etruria_matrix, 0)\n",
    "etruria_matrix[attacker, idx_cc[defender]] = 0\n",
    "etruria_matrix[idx_cc[defender], attacker] = 0"
   ]
  },
  {
   "cell_type": "code",
   "execution_count": 25,
   "metadata": {},
   "outputs": [
    {
     "name": "stdout",
     "output_type": "stream",
     "text": [
      "================================================\n",
      "Nuovi confinanti di Soriano del Cimino:\n",
      "================================================\n",
      "Bassano in Teverina\n",
      "Bomarzo\n",
      "Caprarola\n",
      "Vallerano\n",
      "Vasanello\n",
      "Vignanello\n",
      "Viterbo\n",
      "Vitorchiano\n"
     ]
    }
   ],
   "source": [
    "etruria_matrix = np.delete(etruria_matrix, (idx_cc[defender]), axis=0)\n",
    "etruria_matrix = np.delete(etruria_matrix, (idx_cc[defender]), axis=1)\n",
    "loc = np.delete(loc, (idx_cc[defender]))\n",
    "\n",
    "print(\"================================================\")\n",
    "print(f'Nuovi confinanti di {comuni_list[attacker]}:')\n",
    "\n",
    "comuni_list.remove(comuni_confinanti[defender])\n",
    "\n",
    "confinanti, comuni_confinanti, idx_cc = get_confinanti(etruria_matrix, loc, comuni_list)"
   ]
  },
  {
   "cell_type": "code",
   "execution_count": null,
   "metadata": {},
   "outputs": [],
   "source": [
    "\n",
    "# print(idx_cc)\n",
    "# print(defender)\n",
    "# Remove loser:\n",
    "\n",
    "\n",
    "comuni_list.pop(idx_cc[defender])\n",
    "print(\"================================================\")\n",
    "print(\"================================================\")"
   ]
  },
  {
   "cell_type": "code",
   "execution_count": null,
   "metadata": {},
   "outputs": [],
   "source": []
  }
 ],
 "metadata": {
  "kernelspec": {
   "display_name": "Python 3.10.6 ('venv': venv)",
   "language": "python",
   "name": "python3"
  },
  "language_info": {
   "codemirror_mode": {
    "name": "ipython",
    "version": 3
   },
   "file_extension": ".py",
   "mimetype": "text/x-python",
   "name": "python",
   "nbconvert_exporter": "python",
   "pygments_lexer": "ipython3",
   "version": "3.10.6"
  },
  "orig_nbformat": 4,
  "vscode": {
   "interpreter": {
    "hash": "8592ef38752df12aff9b073e4b4daa34f51da6e63ebdbbec73fd6abae18c1be4"
   }
  }
 },
 "nbformat": 4,
 "nbformat_minor": 2
}
